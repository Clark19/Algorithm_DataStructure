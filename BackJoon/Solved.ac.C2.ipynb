{
 "cells": [
  {
   "cell_type": "markdown",
   "metadata": {},
   "source": [
    "# Solved.ac Class 2 문제 풀이 https://solved.ac/class\n",
    "## 백준 알고리즘 사이트를 난이도별로 나눠놓은 서비스임."
   ]
  },
  {
   "cell_type": "code",
   "execution_count": null,
   "metadata": {},
   "outputs": [],
   "source": [
    "# 1085번 직사각형에서 탈출 1085번 - https://www.acmicpc.net/problem/1085\n",
    "x, y, w, h = map(int, input().split())\n",
    "xd = abs(w-x)\n",
    "yd = abs(h-y)\n",
    "a = x if x < xd else xd\n",
    "b = y if y < yd else yd\n",
    "print(a if a < b else b)\n",
    "\n",
    "# 타인의 숏코딩 - 더 효율적이 코드\n",
    "x,y,w,h=map(int,input().split())\n",
    "print(min(x,y,w-x,h-y))"
   ]
  },
  {
   "cell_type": "code",
   "execution_count": 6,
   "metadata": {},
   "outputs": [],
   "source": [
    "# 4153 직각삼각형 - https://www.acmicpc.net/problem/4153\n",
    "while True:\n",
    "  nums = list(map(int, input().split()))\n",
    "  max_num = max(nums)\n",
    "  if max_num==0: break;\n",
    "  nums.remove(max_num)\n",
    "  print('right' if max_num**2 == nums[0]**2 + nums[1]**2 else 'wrong')"
   ]
  },
  {
   "cell_type": "code",
   "execution_count": 23,
   "metadata": {},
   "outputs": [
    {
     "name": "stdout",
     "output_type": "stream",
     "text": [
      "602\n"
     ]
    }
   ],
   "source": [
    "# 백준 10250번 ACM 호텔  - https://www.acmicpc.net/problem/10250\n",
    "# nt = int('2')\n",
    "# t2 = \"30 50 72\"\n",
    "t1 = \"6 12 12\"\n",
    "nt = 1\n",
    "\n",
    "nt = int(input())\n",
    "for _ in range(nt):\n",
    "  h, w, n = map(int, input().split())\n",
    "  height = str(n % h)\n",
    "  if height == '0':\n",
    "    nth = str(n//h)\n",
    "    height = str(h)\n",
    "  else:\n",
    "    nth = str(n // h +1) \n",
    "  nth = '0'+nth if len(nth) == 1 else nth\n",
    "  print(height + nth)\n",
    "\n",
    "# 다른 사람 풀이\n",
    "import sys\n",
    "T = int(sys.stdin.readline())\n",
    "for _ in range(T):\n",
    "    H, W, N = map(int, sys.stdin.readline().split())\n",
    "    N -= 1\n",
    "    q = N //H +1\n",
    "    r = N %H +1\n",
    "    sys.stdout.write('{}{:0>2}'.format(r, q) +'\\n')"
   ]
  }
 ],
 "metadata": {
  "interpreter": {
   "hash": "4eaab4fc650633730678bfe2a88494a8d01f7d7b8b02decadd1717cb637ae762"
  },
  "kernelspec": {
   "display_name": "Python 3.8.5 64-bit ('Anaconda3Env': conda)",
   "name": "python3"
  },
  "language_info": {
   "codemirror_mode": {
    "name": "ipython",
    "version": 3
   },
   "file_extension": ".py",
   "mimetype": "text/x-python",
   "name": "python",
   "nbconvert_exporter": "python",
   "pygments_lexer": "ipython3",
   "version": "3.8.5"
  },
  "orig_nbformat": 4
 },
 "nbformat": 4,
 "nbformat_minor": 2
}
