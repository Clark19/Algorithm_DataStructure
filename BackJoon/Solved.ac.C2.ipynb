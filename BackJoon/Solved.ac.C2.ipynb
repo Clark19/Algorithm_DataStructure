{
 "cells": [
  {
   "cell_type": "markdown",
   "metadata": {},
   "source": [
    "# Solved.ac Class 2 문제 풀이 https://solved.ac/class\n",
    "## 백준 알고리즘 사이트를 난이도별로 나눠놓은 서비스임."
   ]
  },
  {
   "cell_type": "code",
   "execution_count": null,
   "metadata": {},
   "outputs": [],
   "source": [
    "# 1085번 직사각형에서 탈출 1085번 - https://www.acmicpc.net/problem/1085\n",
    "x, y, w, h = map(int, input().split())\n",
    "xd = abs(w-x)\n",
    "yd = abs(h-y)\n",
    "a = x if x < xd else xd\n",
    "b = y if y < yd else yd\n",
    "print(a if a < b else b)\n",
    "\n",
    "# 타인의 숏코딩 - 더 효율적이 코드\n",
    "x,y,w,h=map(int,input().split())\n",
    "print(min(x,y,w-x,h-y))"
   ]
  },
  {
   "cell_type": "code",
   "execution_count": 6,
   "metadata": {},
   "outputs": [],
   "source": [
    "# 4153 직각삼각형 - https://www.acmicpc.net/problem/4153\n",
    "while True:\n",
    "  nums = list(map(int, input().split()))\n",
    "  max_num = max(nums)\n",
    "  if max_num==0: break;\n",
    "  nums.remove(max_num)\n",
    "  print('right' if max_num**2 == nums[0]**2 + nums[1]**2 else 'wrong')"
   ]
  },
  {
   "cell_type": "code",
   "execution_count": 23,
   "metadata": {},
   "outputs": [
    {
     "name": "stdout",
     "output_type": "stream",
     "text": [
      "602\n"
     ]
    }
   ],
   "source": [
    "# 백준 10250번 ACM 호텔  - https://www.acmicpc.net/problem/10250\n",
    "# nt = int('2')\n",
    "# t2 = \"30 50 72\"\n",
    "t1 = \"6 12 12\"\n",
    "nt = 1\n",
    "\n",
    "nt = int(input())\n",
    "for _ in range(nt):\n",
    "  h, w, n = map(int, input().split())\n",
    "  height = str(n % h)\n",
    "  if height == '0':\n",
    "    nth = str(n//h)\n",
    "    height = str(h)\n",
    "  else:\n",
    "    nth = str(n // h +1) \n",
    "  nth = '0'+nth if len(nth) == 1 else nth\n",
    "  print(height + nth)\n",
    "\n",
    "# 다른 사람 풀이\n",
    "import sys\n",
    "T = int(sys.stdin.readline())\n",
    "for _ in range(T):\n",
    "    H, W, N = map(int, sys.stdin.readline().split())\n",
    "    N -= 1\n",
    "    q = N //H +1\n",
    "    r = N %H +1\n",
    "    sys.stdout.write('{}{:0>2}'.format(r, q) +'\\n')"
   ]
  },
  {
   "cell_type": "code",
   "execution_count": 21,
   "metadata": {},
   "outputs": [
    {
     "name": "stdout",
     "output_type": "stream",
     "text": [
      "245\n"
     ]
    }
   ],
   "source": [
    "# 백준 2231 분해합  - https://www.acmicpc.net/problem/2231\n",
    "n = int('256') # 245\n",
    "# n = int(input())\n",
    "\n",
    "# 첨에 푼거 : 오히려 뒤숫자에서 부터 체크했더니 시간 초과로 더 느림\n",
    "# nLen = len(n) # 3\n",
    "# n = int(n)\n",
    "# cnums = []\n",
    "# for i in range(1, nLen*9):\n",
    "#   m = str(n - i)\n",
    "#   if i == sum([int(x) for x in m]):\n",
    "#     cnums.append(int(m))\n",
    "# ans = min(cnums)\n",
    "# if len(cnums) == 0:\n",
    "#   ans = 0\n",
    "# print(ans)\n",
    "\n",
    "# 개선한 거: 오히려 1부터 추려나가는 방법인데 더 빠름\n",
    "# n = int(n)\n",
    "# ans = 0\n",
    "# for i in range(1, n+1):\n",
    "#   m = str(i)\n",
    "#   if n == i+sum(map(int, list(m))):\n",
    "#   # if n == i+sum([int(x) for x in m]): # 오히려 리스트 컴프리헨션이 더 느림\n",
    "#     ans = i\n",
    "#     break\n",
    "# print(ans)\n",
    "\n",
    "# 2차 성능 개선 : 인덱스 범위 수정\n",
    "n = int(input())\n",
    "ans = 0\n",
    "start = max(0, n-len(str(n))*9)\n",
    "end = max(0, n-len(str(n)))\n",
    "for i in range(start, end):\n",
    "  m = str(i)\n",
    "  if n == i+sum(map(int, list(m))):\n",
    "  # if n == i+sum([int(x) for x in m]): # 오히려 리스트 컴프리헨션이 더 느림\n",
    "    ans = i\n",
    "    break\n",
    "print(ans)\n"
   ]
  },
  {
   "cell_type": "code",
   "execution_count": 3,
   "metadata": {},
   "outputs": [
    {
     "name": "stdout",
     "output_type": "stream",
     "text": [
      "3\n"
     ]
    }
   ],
   "source": [
    "# 백준 2292번 벌집 - https://www.acmicpc.net/problem/2292\n",
    "n = int(input())\n",
    "# n = 13\n",
    "\n",
    "# 처음에 푼 방식 : 시간 초과 남\n",
    "i = 1\n",
    "v = 1\n",
    "if n==1: print(i)\n",
    "while True:\n",
    "  # i=0: 1 + 0*6 = 1\n",
    "  # i=1: 1 + 1*6 = 7\n",
    "  # i=2: 7 + 2*6 = 19\n",
    "  # i=3: 19 + 3*6 = 37\n",
    "  # i=4: 37 + 4*6 = 61\n",
    "  if v < n and n <= v + i*6:\n",
    "    print(i+1)\n",
    "    break\n",
    "  v += i*6\n",
    "  i += 1\n",
    "\n",
    "# 두 번째 푼 방식 : 다른 사람거 참고후 안 보고 품.\n",
    "count = 1\n",
    "accum = 1\n",
    "sixMul = 6\n",
    "while accum < n:\n",
    "  count += 1\n",
    "  accum += sixMul\n",
    "  sixMul += 6\n",
    "print(count)"
   ]
  },
  {
   "cell_type": "code",
   "execution_count": 1,
   "metadata": {},
   "outputs": [],
   "source": [
    "# 백준 2775번 부녀회장이 될테야 - https://www.acmicpc.net/problem/2775\n",
    "# 재귀 + 메모이제이션 방법 사용\n",
    "memo = dict()\n",
    "def f(k, n):\n",
    "  '''\n",
    "  k=층, n=몇호\n",
    "  k : 1 <= k, n <= 14\n",
    "  '''\n",
    "  if n == 1:  return 1\n",
    "  if k == 0:  return n\n",
    "\n",
    "  if (k,n) not in memo:\n",
    "    f1 = memo.get((k, n-1), f(k, n-1))\n",
    "    f2 = memo.get((k-1, n), f(k-1, n))\n",
    "    memo[(k,n)] = f1+f2  \n",
    "\n",
    "  return memo.get((k,n), 1)\n",
    "\n",
    "testCaseNum = int(input())\n",
    "result = []\n",
    "for i in range(testCaseNum):\n",
    "  k = int(input())\n",
    "  n = int(input())\n",
    "  result.append(f(k, n))\n",
    "print(*result, sep='\\n')\n",
    "\n",
    "'''\n",
    "# 처음에 푼 이 방식은 그냥 쌩 재귀호출 이용방식이라서 시간초과 남\n",
    "def f(k, n):\n",
    "  if n == 1:  return 1\n",
    "  if k == 0:  return n\n",
    "  return f(k, n-1) + f(k-1, n)\n",
    "t = int(input())\n",
    "result = []\n",
    "for i in range(t):\n",
    "  k = int(input())\n",
    "  n = int(input())\n",
    "  result.append(f(k, n))\n",
    "print(*result, sep='\\n')\n",
    "'''"
   ]
  },
  {
   "cell_type": "code",
   "execution_count": null,
   "metadata": {},
   "outputs": [],
   "source": [
    "# 백준 2798번 블랙잭 - https://www.acmicpc.net/problem/2798\n",
    "# 내가 푼거\n",
    "n, m = map(int, input().split())\n",
    "cards = list(map(int, input().split()))\n",
    "minGap = m\n",
    "closeValue = m\n",
    "for i in range(n):\n",
    "  for j in range(i+1, n):\n",
    "    fixV = cards[i] + cards[j]\n",
    "    for k in range(j+1, n):\n",
    "      if (fixV + cards[k]) > m:\n",
    "        continue\n",
    "      gap = m - (fixV + cards[k])\n",
    "      if gap < minGap: \n",
    "        minGap = gap\n",
    "        closeValue = fixV + cards[k]\n",
    "print(closeValue)\n",
    "\n",
    "# 다른 사람이 푼거\n",
    "n, m = map(int, input().split())\n",
    "cards = list(map(int, input().split()))\n",
    "closeValue = 0\n",
    "for i in range(n):\n",
    "  for j in range(i+1, n):\n",
    "    fixV = cards[i] + cards[j]\n",
    "    for k in range(j+1, n):\n",
    "      if (fixV + cards[k]) > m:\n",
    "        continue\n",
    "      else:\n",
    "        closeValue = max(closeValue, fixV+cards[k])\n",
    "print(closeValue)"
   ]
  },
  {
   "cell_type": "code",
   "execution_count": null,
   "metadata": {},
   "outputs": [],
   "source": [
    "# 백준 15829번 Hashing - https://www.acmicpc.net/problem/15829\n",
    "_ = input()\n",
    "al = input()\n",
    "nums, r, m = 0, 31, 1234567891\n",
    "for idx, chr in enumerate(al):\n",
    "  h = (ord(chr)-96) * r**idx\n",
    "  nums += h\n",
    "print(nums % m)"
   ]
  },
  {
   "cell_type": "code",
   "execution_count": null,
   "metadata": {},
   "outputs": [],
   "source": [
    "# 백준 1259번 팰린드롬수 - https://www.acmicpc.net/problem/1259\n",
    "while True:\n",
    "  n = input()\n",
    "  if n == '0': break;\n",
    "  l = len(n)-1\n",
    "  res = 'yes'\n",
    "  for i in range(l):\n",
    "    if n[i] != n[l-i]:\n",
    "      res='no'\n",
    "      break\n",
    "  print(res)\n",
    "\n",
    "# 다른 사람의 숏코딩 한번 보고 안보고 코딩해본 것\n",
    "while True:\n",
    "  n = input()\n",
    "  if n=='0': break;\n",
    "  print('yes' if n==n[::-1] else 'no')"
   ]
  },
  {
   "cell_type": "code",
   "execution_count": null,
   "metadata": {},
   "outputs": [],
   "source": [
    "# 백준 2839번 설탕 배달 - https://www.acmicpc.net/problem/2839\n",
    "# n=3 # 15, 18, 16, 4,3,5\n",
    "n = int(input())\n",
    "result = -1\n",
    "r5 = n//5\n",
    "r3 = n//3 + 1\n",
    "find = False\n",
    "for x in range(r5, -1, -1):\n",
    "  for y in range(r5-x, r3):\n",
    "    c = 5*x + 3*y\n",
    "    if c > n: break\n",
    "    if n == c:\n",
    "      result = x+y\n",
    "      find = True\n",
    "      break\n",
    "  if find: break\n",
    "\n",
    "print(result)"
   ]
  }
 ],
 "metadata": {
  "interpreter": {
   "hash": "4eaab4fc650633730678bfe2a88494a8d01f7d7b8b02decadd1717cb637ae762"
  },
  "kernelspec": {
   "display_name": "Python 3.8.5 64-bit ('Anaconda3Env': conda)",
   "name": "python3"
  },
  "language_info": {
   "codemirror_mode": {
    "name": "ipython",
    "version": 3
   },
   "file_extension": ".py",
   "mimetype": "text/x-python",
   "name": "python",
   "nbconvert_exporter": "python",
   "pygments_lexer": "ipython3",
   "version": "3.8.5"
  },
  "orig_nbformat": 4
 },
 "nbformat": 4,
 "nbformat_minor": 2
}
