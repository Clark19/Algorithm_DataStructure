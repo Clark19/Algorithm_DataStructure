{
 "cells": [
  {
   "cell_type": "markdown",
   "metadata": {},
   "source": [
    "# Solved.ac Class 1(파이썬 최하 난이도) 문제 풀이 https://solved.ac/class\n",
    "## 백준 알고리즘 사이트를 난이도별로 나눠놓은 서비스임."
   ]
  },
  {
   "cell_type": "code",
   "execution_count": null,
   "metadata": {},
   "outputs": [],
   "source": [
    "# 1000번 문제\n",
    "a, b = map(int, input().split())\n",
    "print(a+b)"
   ]
  },
  {
   "cell_type": "code",
   "execution_count": null,
   "metadata": {},
   "outputs": [],
   "source": [
    "# 백준 1152 - 단어의 개수\n",
    "print(len(input().split())) # 단어 중복 허용시 답안 코드\n",
    "\n",
    "# 단어 중복 허용 안할때 코드\n",
    "strList = input().split()\n",
    "data = {}\n",
    "for ch in strList :\n",
    "  data[ch] = data.get(ch, 0) +1\n",
    "sum(data.values())"
   ]
  },
  {
   "cell_type": "code",
   "execution_count": 36,
   "metadata": {},
   "outputs": [
    {
     "name": "stdout",
     "output_type": "stream",
     "text": [
      "A\n"
     ]
    }
   ],
   "source": [
    "# 1157 단어 공부 - 분류: 구현, 문자열 - https://www.acmicpc.net/problem/1157\n",
    "# word = 'Mississipi'.upper() Mississipi baaa\n",
    "word = input().upper()\n",
    "dict = {}\n",
    "for ch in word :\n",
    "    dict[ch] = dict.get(ch, 0) + 1\n",
    "\n",
    "# 첫번째 최대값을 가진 key\n",
    "maxValueKey = max(dict, key=dict.get)\n",
    "maxValue = dict[maxValueKey]\n",
    "\n",
    "\n",
    "# 최다값이 딕셔너리 안에 두개 이상인지 체크\n",
    "maxCnt = 0\n",
    "isOverlap = False\n",
    "for v in dict.values() :\n",
    "    if maxValue == v :\n",
    "        maxCnt += 1\n",
    "    if maxCnt >= 2 :\n",
    "        isOverlap = True\n",
    "\n",
    "if isOverlap :\n",
    "    print('?')\n",
    "else :\n",
    "    print(maxValueKey)\n"
   ]
  },
  {
   "cell_type": "code",
   "execution_count": 2,
   "metadata": {},
   "outputs": [
    {
     "name": "stdout",
     "output_type": "stream",
     "text": [
      "0번째 반복: 273\n",
      "1번째 반복: 32\n",
      "2번째 반복: 103\n",
      "3번째 반복: 57\n",
      "4번째 반복: 52\n"
     ]
    }
   ],
   "source": [
    "#  str.format()사용 예\n",
    "array = [273, 32, 103, 57, 52]\n",
    "\n",
    "for i in range(len(array)):\n",
    "    print(\"{}번째 반복: {}\".format(i, array[i]))"
   ]
  },
  {
   "cell_type": "code",
   "execution_count": 9,
   "metadata": {},
   "outputs": [
    {
     "name": "stdout",
     "output_type": "stream",
     "text": [
      "==\n"
     ]
    }
   ],
   "source": [
    "# https://www.acmicpc.net/problem/1330\n",
    "a, b = map(int, input().split())\n",
    "\n",
    "result = '=='\n",
    "if a > b :\n",
    "  result = '>'\n",
    "elif a < b :\n",
    "  result = '<'\n",
    "\n",
    "print(result)"
   ]
  },
  {
   "cell_type": "code",
   "execution_count": 12,
   "metadata": {},
   "outputs": [
    {
     "ename": "ValueError",
     "evalue": "invalid literal for int() with base 10: '3 40 80 60'",
     "output_type": "error",
     "traceback": [
      "\u001b[1;31m---------------------------------------------------------------------------\u001b[0m",
      "\u001b[1;31mValueError\u001b[0m                                Traceback (most recent call last)",
      "\u001b[1;32m<ipython-input-12-6db2fd0f480d>\u001b[0m in \u001b[0;36m<module>\u001b[1;34m\u001b[0m\n\u001b[0;32m      1\u001b[0m \u001b[1;31m# https://www.acmicpc.net/problem/1546\u001b[0m\u001b[1;33m\u001b[0m\u001b[1;33m\u001b[0m\u001b[1;33m\u001b[0m\u001b[0m\n\u001b[0;32m      2\u001b[0m \u001b[1;33m\u001b[0m\u001b[0m\n\u001b[1;32m----> 3\u001b[1;33m \u001b[0mn\u001b[0m \u001b[1;33m=\u001b[0m \u001b[0mint\u001b[0m\u001b[1;33m(\u001b[0m\u001b[0minput\u001b[0m\u001b[1;33m(\u001b[0m\u001b[1;33m)\u001b[0m\u001b[1;33m)\u001b[0m\u001b[1;33m\u001b[0m\u001b[1;33m\u001b[0m\u001b[0m\n\u001b[0m\u001b[0;32m      4\u001b[0m \u001b[0mscores\u001b[0m \u001b[1;33m=\u001b[0m \u001b[0mlist\u001b[0m\u001b[1;33m(\u001b[0m\u001b[0mmap\u001b[0m\u001b[1;33m(\u001b[0m\u001b[0mint\u001b[0m\u001b[1;33m,\u001b[0m \u001b[0minput\u001b[0m\u001b[1;33m(\u001b[0m\u001b[1;33m)\u001b[0m\u001b[1;33m.\u001b[0m\u001b[0msplit\u001b[0m\u001b[1;33m(\u001b[0m\u001b[1;33m)\u001b[0m\u001b[1;33m)\u001b[0m\u001b[1;33m)\u001b[0m\u001b[1;33m\u001b[0m\u001b[1;33m\u001b[0m\u001b[0m\n\u001b[0;32m      5\u001b[0m \u001b[1;33m\u001b[0m\u001b[0m\n",
      "\u001b[1;31mValueError\u001b[0m: invalid literal for int() with base 10: '3 40 80 60'"
     ]
    }
   ],
   "source": [
    "# https://www.acmicpc.net/problem/1546\n",
    "\n",
    "n = int(input())\n",
    "scores = list(map(int, input().split()))\n",
    "\n",
    "print(n, scores)"
   ]
  }
 ],
 "metadata": {
  "interpreter": {
   "hash": "4eaab4fc650633730678bfe2a88494a8d01f7d7b8b02decadd1717cb637ae762"
  },
  "kernelspec": {
   "display_name": "Python 3.8.5 64-bit ('Anaconda3Env': conda)",
   "name": "python3"
  },
  "language_info": {
   "codemirror_mode": {
    "name": "ipython",
    "version": 3
   },
   "file_extension": ".py",
   "mimetype": "text/x-python",
   "name": "python",
   "nbconvert_exporter": "python",
   "pygments_lexer": "ipython3",
   "version": "3.8.5"
  },
  "orig_nbformat": 4
 },
 "nbformat": 4,
 "nbformat_minor": 2
}
