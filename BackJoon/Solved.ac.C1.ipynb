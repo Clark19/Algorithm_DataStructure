{
 "cells": [
  {
   "cell_type": "markdown",
   "metadata": {},
   "source": [
    "# Solved.ac Class 1(파이썬 최하 난이도) 문제 풀이 https://solved.ac/class\n",
    "## 백준 알고리즘 사이트를 난이도별로 나눠놓은 서비스임."
   ]
  },
  {
   "cell_type": "code",
   "execution_count": null,
   "metadata": {},
   "outputs": [],
   "source": [
    "# 1000번 문제\n",
    "a, b = map(int, input().split())\n",
    "print(a+b)"
   ]
  },
  {
   "cell_type": "code",
   "execution_count": null,
   "metadata": {},
   "outputs": [],
   "source": [
    "# 백준 1152 - 단어의 개수\n",
    "print(len(input().split())) # 단어 중복 허용시 답안 코드\n",
    "\n",
    "# 단어 중복 허용 안할때 코드\n",
    "strList = input().split()\n",
    "data = {}\n",
    "for ch in strList :\n",
    "  data[ch] = data.get(ch, 0) +1\n",
    "sum(data.values())"
   ]
  },
  {
   "cell_type": "code",
   "execution_count": 36,
   "metadata": {},
   "outputs": [
    {
     "name": "stdout",
     "output_type": "stream",
     "text": [
      "A\n"
     ]
    }
   ],
   "source": [
    "# 1157 단어 공부 - 분류: 구현, 문자열 - https://www.acmicpc.net/problem/1157\n",
    "# word = 'Mississipi'.upper() Mississipi baaa\n",
    "word = input().upper()\n",
    "dict = {}\n",
    "for ch in word :\n",
    "    dict[ch] = dict.get(ch, 0) + 1\n",
    "\n",
    "# 첫번째 최대값을 가진 key\n",
    "maxValueKey = max(dict, key=dict.get)\n",
    "maxValue = dict[maxValueKey]\n",
    "\n",
    "\n",
    "# 최다값이 딕셔너리 안에 두개 이상인지 체크\n",
    "maxCnt = 0\n",
    "isOverlap = False\n",
    "for v in dict.values() :\n",
    "    if maxValue == v :\n",
    "        maxCnt += 1\n",
    "    if maxCnt >= 2 :\n",
    "        isOverlap = True\n",
    "\n",
    "if isOverlap :\n",
    "    print('?')\n",
    "else :\n",
    "    print(maxValueKey)\n"
   ]
  },
  {
   "cell_type": "code",
   "execution_count": 2,
   "metadata": {},
   "outputs": [
    {
     "name": "stdout",
     "output_type": "stream",
     "text": [
      "0번째 반복: 273\n",
      "1번째 반복: 32\n",
      "2번째 반복: 103\n",
      "3번째 반복: 57\n",
      "4번째 반복: 52\n"
     ]
    }
   ],
   "source": [
    "#  str.format()사용 예\n",
    "array = [273, 32, 103, 57, 52]\n",
    "\n",
    "for i in range(len(array)):\n",
    "    print(\"{}번째 반복: {}\".format(i, array[i]))"
   ]
  },
  {
   "cell_type": "code",
   "execution_count": 9,
   "metadata": {},
   "outputs": [
    {
     "name": "stdout",
     "output_type": "stream",
     "text": [
      "==\n"
     ]
    }
   ],
   "source": [
    "# 1330번 두 수 비교하기. https://www.acmicpc.net/problem/1330\n",
    "a, b = map(int, input().split())\n",
    "\n",
    "result = '=='\n",
    "if a > b :\n",
    "  result = '>'\n",
    "elif a < b :\n",
    "  result = '<'\n",
    "\n",
    "print(result)"
   ]
  },
  {
   "cell_type": "code",
   "execution_count": 14,
   "metadata": {},
   "outputs": [
    {
     "name": "stdout",
     "output_type": "stream",
     "text": [
      "75.0\n"
     ]
    }
   ],
   "source": [
    "# 1546번 평균. https://www.acmicpc.net/problem/1546\n",
    "n = int(input())\n",
    "scores = list(map(int, input().split()))\n",
    "MaxScore = max(scores)\n",
    "\n",
    "def do(score) :\n",
    "  return score/MaxScore*100\n",
    "\n",
    "newScores = list(map(do, scores))\n",
    "print(sum(newScores) / len(newScores))"
   ]
  },
  {
   "cell_type": "code",
   "execution_count": 3,
   "metadata": {},
   "outputs": [
    {
     "name": "stdout",
     "output_type": "stream",
     "text": [
      "*\n",
      "**\n",
      "***\n",
      "****\n",
      "*****\n"
     ]
    }
   ],
   "source": [
    "# 2438번 별 찍기-1. https://www.acmicpc.net/problem/2438\n",
    "n = int(input())\n",
    "for row in range(1, n+1) :\n",
    "  print('*'*row)"
   ]
  },
  {
   "cell_type": "code",
   "execution_count": 4,
   "metadata": {},
   "outputs": [
    {
     "name": "stdout",
     "output_type": "stream",
     "text": [
      "    *\n",
      "   **\n",
      "  ***\n",
      " ****\n",
      "*****\n"
     ]
    }
   ],
   "source": [
    "# 2439번 별 찍기-2. https://www.acmicpc.net/problem/2439\n",
    "n = int(input())\n",
    "for row in range(1, n+1) :\n",
    "  print(' '*(n-row) + '*'*row)"
   ]
  },
  {
   "cell_type": "code",
   "execution_count": 1,
   "metadata": {},
   "outputs": [
    {
     "name": "stdout",
     "output_type": "stream",
     "text": [
      "1\n",
      "1\n"
     ]
    }
   ],
   "source": [
    "# 2475번 검증수 - https://www.acmicpc.net/problem/2475\n",
    "\n",
    "# 처음에 내가 푼 풀이\n",
    "# nums = list(map(int, input().split()))\n",
    "nums = [0, 4, 2, 5, 6]\n",
    "\n",
    "total = 0\n",
    "for n in nums :\n",
    "  total += n**2\n",
    "print(total % 10)\n",
    "\n",
    "# 리스트 컴프리헨션 이용한 풀이 - 다른 사람 코드 참고\n",
    "# nums = [n**2 for n in map(int, input().split())]\n",
    "print(sum(nums) % 10)\n"
   ]
  },
  {
   "cell_type": "code",
   "execution_count": 2,
   "metadata": {},
   "outputs": [
    {
     "name": "stdout",
     "output_type": "stream",
     "text": [
      "|\\_/|\n",
      "|q p|   /}\n",
      "( 0 )\"\"\"\\\n",
      "|\"^\"`    |\n",
      "||_/=\\\\__|\n"
     ]
    }
   ],
   "source": [
    "# 10172번 개 출력 - https://www.acmicpc.net/problem/10172\n",
    "print(\"|\\_/|\")\n",
    "print(\"|q p|   /}\")\n",
    "print(\"( 0 )\\\"\\\"\\\"\\\\\")\n",
    "print(\"|\\\"^\\\"`    |\")\n",
    "print(\"||_/=\\\\\\__|\")"
   ]
  },
  {
   "cell_type": "code",
   "execution_count": 5,
   "metadata": {},
   "outputs": [
    {
     "name": "stdout",
     "output_type": "stream",
     "text": [
      "10\n",
      "4\n",
      "21\n",
      "2\n",
      "1\n"
     ]
    }
   ],
   "source": [
    "# 10869번 사칙연산 - https://www.acmicpc.net/problem/10869\n",
    "a, b = map(int, input().split())\n",
    "\n",
    "print(a+b)\n",
    "print(a-b)\n",
    "print(a*b)\n",
    "print(a//b)\n",
    "print(a%b)"
   ]
  },
  {
   "cell_type": "code",
   "execution_count": null,
   "metadata": {},
   "outputs": [],
   "source": [
    "# https://www.acmicpc.net/problem/10998\n",
    "a, b = map(int, input().split())\n",
    "print(a*b)"
   ]
  },
  {
   "cell_type": "code",
   "execution_count": 11,
   "metadata": {},
   "outputs": [
    {
     "name": "stdout",
     "output_type": "stream",
     "text": [
      "122\n"
     ]
    }
   ],
   "source": [
    "# 아스키 코드로 변환 - https://www.acmicpc.net/problem/11654\n",
    "print(ord('z'))"
   ]
  },
  {
   "cell_type": "code",
   "execution_count": 14,
   "metadata": {},
   "outputs": [
    {
     "name": "stdout",
     "output_type": "stream",
     "text": [
      "0\n"
     ]
    }
   ],
   "source": [
    "# 2753번 윤년 - https://www.acmicpc.net/problem/2753\n",
    "year = int(input())\n",
    "if year % 4 == 0 and ( year % 100 != 0 or year % 400 == 0) :\n",
    "  print('1')\n",
    "else :\n",
    "  print('0')"
   ]
  },
  {
   "cell_type": "code",
   "execution_count": 1,
   "metadata": {},
   "outputs": [
    {
     "name": "stdout",
     "output_type": "stream",
     "text": [
      "A\n"
     ]
    }
   ],
   "source": [
    "# 9498번 시험 성적 - https://www.acmicpc.net/problem/9498\n",
    "point = int(input())\n",
    "# point = 100\n",
    "if 90 <= point and point <= 100 :\n",
    "  print('A')\n",
    "elif 80 <= point and point <= 89 :\n",
    "  print('B')\n",
    "elif 70 <= point and point <= 79 :\n",
    "  print('C')\n",
    "elif 60 <= point and point <= 69 :\n",
    "  print('D')\n",
    "else :\n",
    "  print('F')"
   ]
  },
  {
   "cell_type": "code",
   "execution_count": 2,
   "metadata": {},
   "outputs": [
    {
     "name": "stdout",
     "output_type": "stream",
     "text": [
      "2 * 1 = 2\n",
      "2 * 2 = 4\n",
      "2 * 3 = 6\n",
      "2 * 4 = 8\n",
      "2 * 5 = 10\n",
      "2 * 6 = 12\n",
      "2 * 7 = 14\n",
      "2 * 8 = 16\n",
      "2 * 9 = 18\n"
     ]
    }
   ],
   "source": [
    "# 2739 구구단 https://www.acmicpc.net/problem/2739\n",
    "num = int(input())\n",
    "for i in range(1, 10) :\n",
    "  print(\"{} * {} = {}\".format(num, i, num * i))"
   ]
  },
  {
   "cell_type": "code",
   "execution_count": 5,
   "metadata": {},
   "outputs": [
    {
     "name": "stdout",
     "output_type": "stream",
     "text": [
      "5\n",
      "4\n",
      "3\n",
      "2\n",
      "1\n"
     ]
    }
   ],
   "source": [
    "# 2741 N 찍기 https://www.acmicpc.net/problem/2741\n",
    "n = int(input())\n",
    "for i in range(1, n+1) :\n",
    "  print(i)\n",
    "\n",
    "# 2742 기찍 N https://www.acmicpc.net/problem/2742\n",
    "n = int(input())\n",
    "for i in range(n, 0, -1) :\n",
    "  print(i)"
   ]
  },
  {
   "cell_type": "code",
   "execution_count": 6,
   "metadata": {},
   "outputs": [
    {
     "name": "stdout",
     "output_type": "stream",
     "text": [
      "23 2\n"
     ]
    }
   ],
   "source": [
    "# 2884 알람 시계 - https://www.acmicpc.net/problem/2884\n",
    "a, b = map(int, input().split())\n",
    "\n",
    "if b >= 45 :\n",
    "  b -= 45\n",
    "else :\n",
    "  if a >= 1 :\n",
    "    a -= 1\n",
    "  else :\n",
    "    a = 23\n",
    "  b = (60 + b) - 45\n",
    "\n",
    "print(a, b)\n",
    "\n",
    "# 숏코딩\n",
    "# x=a*60+b-45\n",
    "# print(x//60%24,x%60)"
   ]
  },
  {
   "cell_type": "code",
   "execution_count": 6,
   "metadata": {},
   "outputs": [
    {
     "name": "stdout",
     "output_type": "stream",
     "text": [
      "0 2\n"
     ]
    }
   ],
   "source": [
    "# 10818 최소, 최대값 구하기  - https://www.acmicpc.net/problem/10818\n",
    "import math\n",
    "n = int(input())\n",
    "nums = [int(x) for x in input().split()]\n",
    "minV, maxV = math.inf, -math.inf\n",
    "\n",
    "for i in nums:\n",
    "  if i < minV:\n",
    "    minV = i\n",
    "  if i > maxV:\n",
    "    maxV = i\n",
    "print(minV, maxV)"
   ]
  },
  {
   "cell_type": "code",
   "execution_count": 25,
   "metadata": {},
   "outputs": [
    {
     "name": "stdout",
     "output_type": "stream",
     "text": [
      "1 4 2 3\n"
     ]
    }
   ],
   "source": [
    "# 10871 x보다 작은 수  - https://www.acmicpc.net/problem/10871\n",
    "_, st = map(int, input().split())\n",
    "nums = [int(x) for x in input().split()]\n",
    "res = []\n",
    "for n in nums:\n",
    "  if n < st:\n",
    "    res.append(n)\n",
    "print(*res)\n",
    "\n",
    "# Short Coding\n",
    "_, st = map(int,input().split())\n",
    "nums = [x for x in input().split() if int(x)<st]\n",
    "print(' '.join(nums))"
   ]
  },
  {
   "cell_type": "code",
   "execution_count": 4,
   "metadata": {},
   "outputs": [
    {
     "name": "stdout",
     "output_type": "stream",
     "text": [
      "[]\n"
     ]
    }
   ],
   "source": [
    "# 10950번 A+B -3  - https://www.acmicpc.net/problem/10950\n",
    "# n = int(input())\n",
    "\n",
    "# for i in range(n):\n",
    "#   a, b = map(int, input().split())\n",
    "#   print(a+b)\n",
    "\n",
    "# input() 방식보다 std.in이 더 빠름\n",
    "import sys\n",
    "input()\n",
    "nums = [sum(map(int, n.split())) for n in sys.stdin]\n",
    "\n",
    "# print(\"\\n\".join(map(str,nums)))\n",
    "for s in nums:\n",
    "  print(s)"
   ]
  },
  {
   "cell_type": "code",
   "execution_count": null,
   "metadata": {},
   "outputs": [],
   "source": [
    "# A+B - 4 - https://www.acmicpc.net/problem/10951\n",
    "\n",
    "# 성능 좋은 방법\n",
    "import sys\n",
    "nums = [sum(map(int, n.split())) for n in sys.stdin if n != \"0 0\"]\n",
    "for s in nums:\n",
    "    print(s)\n",
    "\n",
    "# 방법2\n",
    "for line in sys.stdin:\n",
    "    print(sum(map(int,line.split())))\n",
    "\n",
    "# 방법3\n",
    "while True:\n",
    "  try:\n",
    "    a, b = map(int, input().split())\n",
    "    print(a+b)\n",
    "  except:\n",
    "    break"
   ]
  },
  {
   "cell_type": "code",
   "execution_count": null,
   "metadata": {},
   "outputs": [],
   "source": [
    "# A+B - 5 - https://www.acmicpc.net/problem/10952\n",
    "\n",
    "#방법1 - 첨에 내가 푼거\n",
    "import sys\n",
    "nums = [sum(map(int, n.split())) for n in sys.stdin]\n",
    "for s in nums:\n",
    "    if s != 0:\n",
    "        print(s)\n",
    "\n",
    "#방법2\n",
    "import sys\n",
    "for line in sys.stdin:\n",
    "    a,b = map(int,line.split())\n",
    "    if a!=0 and b!=0:\n",
    "        print(a+b)"
   ]
  },
  {
   "cell_type": "code",
   "execution_count": 5,
   "metadata": {},
   "outputs": [
    {
     "name": "stdout",
     "output_type": "stream",
     "text": [
      "AAABBBCCC\n",
      "/////HHHHHTTTTTPPPPP\n"
     ]
    }
   ],
   "source": [
    "# 2675번 문자열 반복 - https://www.acmicpc.net/problem/2675\n",
    "t = int(input())\n",
    "for _ in range(t):\n",
    "  r, s = input().split()\n",
    "  r = int(r)\n",
    "  for ch in s:\n",
    "    print(ch * r, end='')\n",
    "  print()\n"
   ]
  },
  {
   "cell_type": "code",
   "execution_count": 16,
   "metadata": {},
   "outputs": [
    {
     "name": "stdout",
     "output_type": "stream",
     "text": [
      "ascending\n"
     ]
    }
   ],
   "source": [
    "# 2920번 음계 - https://www.acmicpc.net/problem/2920\n",
    "# 직접 푼건 틀림\n",
    "# nums = [int(x) for x in input().split()]\n",
    "# whichMode = 'ascending'\n",
    "# for i, n in enumerate(nums):\n",
    "#   if n > nums[i+1]:\n",
    "#     whichMode = 'descending'\n",
    "#   if whichMode == 'descending' and n < nums[i+1]:\n",
    "#     whichMode = 'mixed'\n",
    "#     break;\n",
    "#   if i == len(nums)-2:\n",
    "#     break;\n",
    "\n",
    "# print(whichMode)\n",
    "\n",
    "# 방법1\n",
    "nums = [int(x) for x in input().split()]\n",
    "if nums == sorted(nums):\n",
    "  print('ascending')\n",
    "elif nums == sorted(nums, reverse=True):\n",
    "  print('descending')\n",
    "else:\n",
    "  print('mixed')\n",
    "\n",
    "# 방법2\n",
    "sn = input().split()\n",
    "if sn == '1 2 3 4 5 6 7 8':\n",
    "  print('ascending')\n",
    "elif sn == '8 7 6 5 4 3 2 1':\n",
    "  print('descending')\n",
    "else:\n",
    "  print('mixed')\n",
    "\n",
    "\n"
   ]
  },
  {
   "cell_type": "code",
   "execution_count": 2,
   "metadata": {},
   "outputs": [
    {
     "name": "stdout",
     "output_type": "stream",
     "text": [
      "3\n",
      "1\n",
      "0\n",
      "2\n",
      "0\n",
      "0\n",
      "0\n",
      "2\n",
      "0\n",
      "0\n"
     ]
    }
   ],
   "source": [
    "# 2577번, 숫자의 개수 - https://www.acmicpc.net/problem/2577\n",
    "# 방법1 내가 첨에 푼거\n",
    "# a = input()\n",
    "# b = input()\n",
    "# c = input()\n",
    "# s = int(a) * int(b) * int(c)\n",
    "# s = str(s)\n",
    "# print(s.count(0))\n",
    "\n",
    "#방법2\n",
    "a = 150\n",
    "b = 266\n",
    "c = 427\n",
    "d = list(map(int, str(a*b*c)))\n",
    "for i in range(10):\n",
    "  print(d.count(i))"
   ]
  }
 ],
 "metadata": {
  "interpreter": {
   "hash": "4eaab4fc650633730678bfe2a88494a8d01f7d7b8b02decadd1717cb637ae762"
  },
  "kernelspec": {
   "display_name": "Python 3.8.5 64-bit ('Anaconda3Env': conda)",
   "name": "python3"
  },
  "language_info": {
   "codemirror_mode": {
    "name": "ipython",
    "version": 3
   },
   "file_extension": ".py",
   "mimetype": "text/x-python",
   "name": "python",
   "nbconvert_exporter": "python",
   "pygments_lexer": "ipython3",
   "version": "3.8.5"
  },
  "orig_nbformat": 4
 },
 "nbformat": 4,
 "nbformat_minor": 2
}
