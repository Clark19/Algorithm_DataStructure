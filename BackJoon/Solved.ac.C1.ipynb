{
 "cells": [
  {
   "cell_type": "markdown",
   "metadata": {},
   "source": [
    "# Solved.ac Class 1(파이썬 최하 난이도) 문제 풀이 https://solved.ac/class\n",
    "## 백준 알고리즘 사이트를 난이도별로 나눠놓은 서비스임."
   ]
  },
  {
   "cell_type": "code",
   "execution_count": null,
   "metadata": {},
   "outputs": [],
   "source": [
    "# 1000번 문제\n",
    "a, b = map(int, input().split())\n",
    "print(a+b)"
   ]
  },
  {
   "cell_type": "code",
   "execution_count": null,
   "metadata": {},
   "outputs": [],
   "source": [
    "# 백준 1152 - 단어의 개수\n",
    "print(len(input().split())) # 단어 중복 허용시 답안 코드\n",
    "\n",
    "# 단어 중복 허용 안할때 코드\n",
    "strList = input().split()\n",
    "data = {}\n",
    "for ch in strList :\n",
    "  data[ch] = data.get(ch, 0) +1\n",
    "sum(data.values())"
   ]
  },
  {
   "cell_type": "code",
   "execution_count": 36,
   "metadata": {},
   "outputs": [
    {
     "name": "stdout",
     "output_type": "stream",
     "text": [
      "A\n"
     ]
    }
   ],
   "source": [
    "# 1157 단어 공부 - 분류: 구현, 문자열 - https://www.acmicpc.net/problem/1157\n",
    "# word = 'Mississipi'.upper() Mississipi baaa\n",
    "word = input().upper()\n",
    "dict = {}\n",
    "for ch in word :\n",
    "    dict[ch] = dict.get(ch, 0) + 1\n",
    "\n",
    "# 첫번째 최대값을 가진 key\n",
    "maxValueKey = max(dict, key=dict.get)\n",
    "maxValue = dict[maxValueKey]\n",
    "\n",
    "\n",
    "# 최다값이 딕셔너리 안에 두개 이상인지 체크\n",
    "maxCnt = 0\n",
    "isOverlap = False\n",
    "for v in dict.values() :\n",
    "    if maxValue == v :\n",
    "        maxCnt += 1\n",
    "    if maxCnt >= 2 :\n",
    "        isOverlap = True\n",
    "\n",
    "if isOverlap :\n",
    "    print('?')\n",
    "else :\n",
    "    print(maxValueKey)\n"
   ]
  },
  {
   "cell_type": "code",
   "execution_count": 2,
   "metadata": {},
   "outputs": [
    {
     "name": "stdout",
     "output_type": "stream",
     "text": [
      "0번째 반복: 273\n",
      "1번째 반복: 32\n",
      "2번째 반복: 103\n",
      "3번째 반복: 57\n",
      "4번째 반복: 52\n"
     ]
    }
   ],
   "source": [
    "#  str.format()사용 예\n",
    "array = [273, 32, 103, 57, 52]\n",
    "\n",
    "for i in range(len(array)):\n",
    "    print(\"{}번째 반복: {}\".format(i, array[i]))"
   ]
  },
  {
   "cell_type": "code",
   "execution_count": 9,
   "metadata": {},
   "outputs": [
    {
     "name": "stdout",
     "output_type": "stream",
     "text": [
      "==\n"
     ]
    }
   ],
   "source": [
    "# 1330번 두 수 비교하기. https://www.acmicpc.net/problem/1330\n",
    "a, b = map(int, input().split())\n",
    "\n",
    "result = '=='\n",
    "if a > b :\n",
    "  result = '>'\n",
    "elif a < b :\n",
    "  result = '<'\n",
    "\n",
    "print(result)"
   ]
  },
  {
   "cell_type": "code",
   "execution_count": 14,
   "metadata": {},
   "outputs": [
    {
     "name": "stdout",
     "output_type": "stream",
     "text": [
      "75.0\n"
     ]
    }
   ],
   "source": [
    "# 1546번 평균. https://www.acmicpc.net/problem/1546\n",
    "n = int(input())\n",
    "scores = list(map(int, input().split()))\n",
    "MaxScore = max(scores)\n",
    "\n",
    "def do(score) :\n",
    "  return score/MaxScore*100\n",
    "\n",
    "newScores = list(map(do, scores))\n",
    "print(sum(newScores) / len(newScores))"
   ]
  },
  {
   "cell_type": "code",
   "execution_count": 3,
   "metadata": {},
   "outputs": [
    {
     "name": "stdout",
     "output_type": "stream",
     "text": [
      "*\n",
      "**\n",
      "***\n",
      "****\n",
      "*****\n"
     ]
    }
   ],
   "source": [
    "# 2438번 별 찍기-1. https://www.acmicpc.net/problem/2438\n",
    "n = int(input())\n",
    "for row in range(1, n+1) :\n",
    "  print('*'*row)"
   ]
  },
  {
   "cell_type": "code",
   "execution_count": 4,
   "metadata": {},
   "outputs": [
    {
     "name": "stdout",
     "output_type": "stream",
     "text": [
      "    *\n",
      "   **\n",
      "  ***\n",
      " ****\n",
      "*****\n"
     ]
    }
   ],
   "source": [
    "# 2439번 별 찍기-2. https://www.acmicpc.net/problem/2439\n",
    "n = int(input())\n",
    "for row in range(1, n+1) :\n",
    "  print(' '*(n-row) + '*'*row)"
   ]
  },
  {
   "cell_type": "code",
   "execution_count": 3,
   "metadata": {},
   "outputs": [
    {
     "name": "stdout",
     "output_type": "stream",
     "text": [
      "1\n",
      "1\n"
     ]
    }
   ],
   "source": [
    "# 2475번 검증수 - https://www.acmicpc.net/problem/2475\n",
    "\n",
    "# 처음에 내가 푼 풀이\n",
    "nums = list(map(int, input().split()))\n",
    "\n",
    "total = 0\n",
    "for n in nums :\n",
    "  total += n**2\n",
    "print(total % 10)\n",
    "\n",
    "# 리스트 컴프리헨션 이용한 풀이 - 다른 사람 코드 참고\n",
    "nums = [n**2 for n in map(int, input().split())]\n",
    "print(sum(nums) % 10)\n"
   ]
  },
  {
   "cell_type": "code",
   "execution_count": null,
   "metadata": {},
   "outputs": [],
   "source": []
  }
 ],
 "metadata": {
  "interpreter": {
   "hash": "4eaab4fc650633730678bfe2a88494a8d01f7d7b8b02decadd1717cb637ae762"
  },
  "kernelspec": {
   "display_name": "Python 3.8.5 64-bit ('Anaconda3Env': conda)",
   "name": "python3"
  },
  "language_info": {
   "codemirror_mode": {
    "name": "ipython",
    "version": 3
   },
   "file_extension": ".py",
   "mimetype": "text/x-python",
   "name": "python",
   "nbconvert_exporter": "python",
   "pygments_lexer": "ipython3",
   "version": "3.8.5"
  },
  "orig_nbformat": 4
 },
 "nbformat": 4,
 "nbformat_minor": 2
}
